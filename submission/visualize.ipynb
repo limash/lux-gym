{
 "cells": [
  {
   "cell_type": "code",
   "execution_count": null,
   "id": "literary-victor",
   "metadata": {},
   "outputs": [],
   "source": [
    "from kaggle_environments import make"
   ]
  },
  {
   "cell_type": "code",
   "execution_count": null,
   "id": "opening-pearl",
   "metadata": {},
   "outputs": [],
   "source": [
    "summary = [0, 0]"
   ]
  },
  {
   "cell_type": "code",
   "execution_count": null,
   "id": "decent-performer",
   "metadata": {
    "tags": []
   },
   "outputs": [],
   "source": [
    "for _ in range(40):\n",
    "    env = make(\"lux_ai_2021\", configuration={\"loglevel\": 2}, debug=False)\n",
    "    steps = env.run([\"agent_compare.py\", \"main.py\"])\n",
    "    if steps[-1][0]['reward'] > steps[-1][1]['reward']:\n",
    "        summary[0] += 1\n",
    "    elif steps[-1][0]['reward'] < steps[-1][1]['reward']:\n",
    "        summary[1] += 1\n",
    "    else:\n",
    "        summary[0] += 1\n",
    "        summary[1] += 1\n",
    "    print(summary)"
   ]
  },
  {
   "cell_type": "code",
   "execution_count": null,
   "id": "checked-spotlight",
   "metadata": {
    "tags": []
   },
   "outputs": [],
   "source": [
    "env.render(mode=\"ipython\", width=1200, height=800)"
   ]
  },
  {
   "cell_type": "code",
   "execution_count": null,
   "id": "careful-canvas",
   "metadata": {
    "tags": []
   },
   "outputs": [],
   "source": [
    "env = make(\"lux_ai_2021\", configuration={\"loglevel\": 2}, debug=True)"
   ]
  },
  {
   "cell_type": "code",
   "execution_count": null,
   "id": "acknowledged-characteristic",
   "metadata": {
    "tags": []
   },
   "outputs": [],
   "source": [
    "steps = env.run([\"agent_compare.py\", \"main.py\"])\n",
    "# steps = env.run([\"../lux_gym/agents/title_agent.py\", \"main.py\"])"
   ]
  },
  {
   "cell_type": "code",
   "execution_count": null,
   "id": "adequate-jacob",
   "metadata": {
    "tags": []
   },
   "outputs": [],
   "source": [
    "steps[-1]"
   ]
  },
  {
   "cell_type": "code",
   "execution_count": null,
   "id": "authorized-victoria",
   "metadata": {
    "tags": []
   },
   "outputs": [],
   "source": [
    "for step in steps:\n",
    "    actions = step[1]['action']\n",
    "    try:\n",
    "        for action in actions:\n",
    "            if action.split()[0] == 't':\n",
    "                print(f\"{step[0]['observation']['step']}: {action}\")\n",
    "    except TypeError:\n",
    "        print(\"TypeError\")\n",
    "        print(step[0]['observation']['step'])"
   ]
  },
  {
   "cell_type": "code",
   "execution_count": null,
   "id": "otherwise-ecology",
   "metadata": {},
   "outputs": [],
   "source": [
    "env.render(mode=\"ipython\", width=1200, height=800)"
   ]
  },
  {
   "cell_type": "code",
   "execution_count": null,
   "id": "animated-conversation",
   "metadata": {},
   "outputs": [],
   "source": []
  }
 ],
 "metadata": {
  "kernelspec": {
   "display_name": "Python 3",
   "language": "python",
   "name": "python3"
  },
  "language_info": {
   "codemirror_mode": {
    "name": "ipython",
    "version": 3
   },
   "file_extension": ".py",
   "mimetype": "text/x-python",
   "name": "python",
   "nbconvert_exporter": "python",
   "pygments_lexer": "ipython3",
   "version": "3.8.12"
  }
 },
 "nbformat": 4,
 "nbformat_minor": 5
}
