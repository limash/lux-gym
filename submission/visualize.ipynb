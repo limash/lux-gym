{
 "cells": [
  {
   "cell_type": "code",
   "execution_count": null,
   "id": "spiritual-pitch",
   "metadata": {},
   "outputs": [],
   "source": [
    "from kaggle_environments import make"
   ]
  },
  {
   "cell_type": "code",
   "execution_count": null,
   "id": "robust-circumstances",
   "metadata": {},
   "outputs": [],
   "source": [
    "import lux_gym.agents.agents as agents\n",
    "# import main"
   ]
  },
  {
   "cell_type": "code",
   "execution_count": null,
   "id": "developed-diesel",
   "metadata": {},
   "outputs": [],
   "source": [
    "agent1 = agents.get_agent(\"ilia_rb\", is_gym=False)\n",
    "# agent2 = agents.get_agent(\"separate_imitator\", is_gym=False)\n",
    "# agent2 = main.agent"
   ]
  },
  {
   "cell_type": "code",
   "execution_count": null,
   "id": "optimum-journalist",
   "metadata": {},
   "outputs": [],
   "source": [
    "env = make(\"lux_ai_2021\", configuration={\"loglevel\": 2}, debug=False)"
   ]
  },
  {
   "cell_type": "code",
   "execution_count": null,
   "id": "distinguished-exhibition",
   "metadata": {},
   "outputs": [],
   "source": [
    "steps = env.run([agent1, \"main.py\"])"
   ]
  },
  {
   "cell_type": "code",
   "execution_count": null,
   "id": "organic-machinery",
   "metadata": {},
   "outputs": [],
   "source": [
    "env.render(mode=\"ipython\", width=900, height=800)"
   ]
  },
  {
   "cell_type": "code",
   "execution_count": null,
   "id": "advised-vocabulary",
   "metadata": {},
   "outputs": [],
   "source": []
  }
 ],
 "metadata": {
  "kernelspec": {
   "display_name": "Python 3",
   "language": "python",
   "name": "python3"
  },
  "language_info": {
   "codemirror_mode": {
    "name": "ipython",
    "version": 3
   },
   "file_extension": ".py",
   "mimetype": "text/x-python",
   "name": "python",
   "nbconvert_exporter": "python",
   "pygments_lexer": "ipython3",
   "version": "3.8.12"
  }
 },
 "nbformat": 4,
 "nbformat_minor": 5
}
