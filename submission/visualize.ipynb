{
 "cells": [
  {
   "cell_type": "code",
   "execution_count": null,
   "id": "stock-ceiling",
   "metadata": {},
   "outputs": [],
   "source": [
    "from kaggle_environments import make"
   ]
  },
  {
   "cell_type": "code",
   "execution_count": null,
   "id": "sharp-albert",
   "metadata": {},
   "outputs": [],
   "source": [
    "summary = [0, 0]"
   ]
  },
  {
   "cell_type": "code",
   "execution_count": null,
   "id": "harmful-radar",
   "metadata": {
    "tags": []
   },
   "outputs": [],
   "source": [
    "for _ in range(40):\n",
    "    env = make(\"lux_ai_2021\", configuration={\"loglevel\": 2}, debug=False)\n",
    "    steps = env.run([\"agent_compare.py\", \"main.py\"])\n",
    "    if steps[-1][0]['reward'] > steps[-1][1]['reward']:\n",
    "        summary[0] += 1\n",
    "    elif steps[-1][0]['reward'] < steps[-1][1]['reward']:\n",
    "        summary[1] += 1\n",
    "    else:\n",
    "        summary[0] += 1\n",
    "        summary[1] += 1\n",
    "    print(summary)"
   ]
  },
  {
   "cell_type": "code",
   "execution_count": null,
   "id": "incident-superintendent",
   "metadata": {
    "tags": []
   },
   "outputs": [],
   "source": [
    "env.render(mode=\"ipython\", width=1200, height=800)"
   ]
  },
  {
   "cell_type": "code",
   "execution_count": null,
   "id": "sunset-reservation",
   "metadata": {
    "tags": []
   },
   "outputs": [],
   "source": [
    "env = make(\"lux_ai_2021\", configuration={\"loglevel\": 2}, debug=True)"
   ]
  },
  {
   "cell_type": "code",
   "execution_count": null,
   "id": "miniature-richards",
   "metadata": {
    "tags": []
   },
   "outputs": [],
   "source": [
    "steps = env.run([\"agent_compare.py\", \"main.py\"])\n",
    "# steps = env.run([\"../lux_gym/agents/title_agent.py\", \"main.py\"])"
   ]
  },
  {
   "cell_type": "code",
   "execution_count": null,
   "id": "romance-baker",
   "metadata": {
    "tags": []
   },
   "outputs": [],
   "source": [
    "steps[-1]"
   ]
  },
  {
   "cell_type": "code",
   "execution_count": null,
   "id": "proof-pasta",
   "metadata": {
    "tags": []
   },
   "outputs": [],
   "source": [
    "for step in steps:\n",
    "    actions = step[1]['action']\n",
    "    try:\n",
    "        for action in actions:\n",
    "            if action.split()[0] == 't':\n",
    "                print(f\"{step[0]['observation']['step']}: {action}\")\n",
    "    except TypeError:\n",
    "        print(\"TypeError\")\n",
    "        print(step[0]['observation']['step'])"
   ]
  },
  {
   "cell_type": "code",
   "execution_count": null,
   "id": "ordinary-cleaners",
   "metadata": {},
   "outputs": [],
   "source": [
    "env.render(mode=\"ipython\", width=1200, height=800)"
   ]
  },
  {
   "cell_type": "code",
   "execution_count": null,
   "id": "brave-binary",
   "metadata": {},
   "outputs": [],
   "source": []
  }
 ],
 "metadata": {
  "kernelspec": {
   "display_name": "Python 3",
   "language": "python",
   "name": "python3"
  },
  "language_info": {
   "codemirror_mode": {
    "name": "ipython",
    "version": 3
   },
   "file_extension": ".py",
   "mimetype": "text/x-python",
   "name": "python",
   "nbconvert_exporter": "python",
   "pygments_lexer": "ipython3",
   "version": "3.8.12"
  }
 },
 "nbformat": 4,
 "nbformat_minor": 5
}
