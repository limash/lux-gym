{
 "cells": [
  {
   "cell_type": "code",
   "execution_count": null,
   "id": "established-moral",
   "metadata": {},
   "outputs": [],
   "source": [
    "from kaggle_environments import make"
   ]
  },
  {
   "cell_type": "code",
   "execution_count": null,
   "id": "recovered-marshall",
   "metadata": {},
   "outputs": [],
   "source": [
    "import lux_gym.agents.agents as agents"
   ]
  },
  {
   "cell_type": "code",
   "execution_count": null,
   "id": "clean-liverpool",
   "metadata": {},
   "outputs": [],
   "source": [
    "agent = agents.get_agent(\"actor_critic_sep_residual_six_actions\", is_gym=False)\n",
    "agent2 = agents.get_agent(\"actor_critic_sep_residual_six_actions\", is_gym=False)"
   ]
  },
  {
   "cell_type": "code",
   "execution_count": null,
   "id": "parliamentary-sector",
   "metadata": {},
   "outputs": [],
   "source": [
    "compare_agent = agents.get_agent(\"compare_agent_sub13\", is_gym=False)"
   ]
  },
  {
   "cell_type": "markdown",
   "id": "collectible-integral",
   "metadata": {},
   "source": [
    "# visualize"
   ]
  },
  {
   "cell_type": "code",
   "execution_count": null,
   "id": "atmospheric-syria",
   "metadata": {
    "tags": []
   },
   "outputs": [],
   "source": [
    "env = make(\"lux_ai_2021\", configuration={\"loglevel\": 2}, debug=False)\n",
    "# steps = env.run([\"lux_gym/agents/title_agent.py\", agent])\n",
    "steps = env.run([agent, agent2])"
   ]
  },
  {
   "cell_type": "code",
   "execution_count": null,
   "id": "generous-collect",
   "metadata": {
    "tags": []
   },
   "outputs": [],
   "source": [
    "env.render(mode=\"ipython\", width=1200, height=1000)"
   ]
  },
  {
   "cell_type": "markdown",
   "id": "transsexual-rates",
   "metadata": {},
   "source": [
    "# tests"
   ]
  },
  {
   "cell_type": "code",
   "execution_count": null,
   "id": "orange-picnic",
   "metadata": {},
   "outputs": [],
   "source": [
    "summary = [0, 0]"
   ]
  },
  {
   "cell_type": "code",
   "execution_count": null,
   "id": "internal-cleaners",
   "metadata": {},
   "outputs": [],
   "source": [
    "for _ in range(100):\n",
    "    env = make(\"lux_ai_2021\", configuration={\"loglevel\": 2}, debug=False)\n",
    "    # steps = env.run([\"lux_gym/agents/title_agent.py\", agent])\n",
    "    steps = env.run([compare_agent, agent])\n",
    "    if steps[-1][0]['reward'] > steps[-1][1]['reward']:\n",
    "        summary[0] += 1\n",
    "    elif steps[-1][0]['reward'] < steps[-1][1]['reward']:\n",
    "        summary[1] += 1\n",
    "    else:\n",
    "        summary[0] += 1\n",
    "        summary[1] += 1\n",
    "    print(summary)"
   ]
  },
  {
   "cell_type": "code",
   "execution_count": null,
   "id": "sought-palmer",
   "metadata": {},
   "outputs": [],
   "source": []
  }
 ],
 "metadata": {
  "kernelspec": {
   "display_name": "Python 3",
   "language": "python",
   "name": "python3"
  },
  "language_info": {
   "codemirror_mode": {
    "name": "ipython",
    "version": 3
   },
   "file_extension": ".py",
   "mimetype": "text/x-python",
   "name": "python",
   "nbconvert_exporter": "python",
   "pygments_lexer": "ipython3",
   "version": "3.8.12"
  }
 },
 "nbformat": 4,
 "nbformat_minor": 5
}
