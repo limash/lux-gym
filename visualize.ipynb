{
 "cells": [
  {
   "cell_type": "code",
   "execution_count": null,
   "id": "rising-billy",
   "metadata": {},
   "outputs": [],
   "source": [
    "from kaggle_environments import make"
   ]
  },
  {
   "cell_type": "code",
   "execution_count": null,
   "id": "forbidden-ordinary",
   "metadata": {},
   "outputs": [],
   "source": [
    "import lux_gym.agents.agents as agents"
   ]
  },
  {
   "cell_type": "code",
   "execution_count": null,
   "id": "attended-senegal",
   "metadata": {},
   "outputs": [],
   "source": [
    "agent = agents.get_agent(\"actor_critic_residual_six_actions\", is_gym=False)"
   ]
  },
  {
   "cell_type": "code",
   "execution_count": null,
   "id": "warming-participant",
   "metadata": {},
   "outputs": [],
   "source": [
    "compare_agent = agents.get_agent(\"compare_agent_eff\", is_gym=False)"
   ]
  },
  {
   "cell_type": "markdown",
   "id": "municipal-breathing",
   "metadata": {},
   "source": [
    "# visualize"
   ]
  },
  {
   "cell_type": "code",
   "execution_count": null,
   "id": "surrounded-layer",
   "metadata": {
    "tags": []
   },
   "outputs": [],
   "source": [
    "env = make(\"lux_ai_2021\", configuration={\"loglevel\": 2}, debug=False)\n",
    "# steps = env.run([\"lux_gym/agents/title_agent.py\", agent])\n",
    "steps = env.run([compare_agent, agent])"
   ]
  },
  {
   "cell_type": "code",
   "execution_count": null,
   "id": "impossible-fifteen",
   "metadata": {
    "tags": []
   },
   "outputs": [],
   "source": [
    "env.render(mode=\"ipython\", width=1200, height=1000)"
   ]
  },
  {
   "cell_type": "markdown",
   "id": "loved-function",
   "metadata": {},
   "source": [
    "# tests"
   ]
  },
  {
   "cell_type": "code",
   "execution_count": null,
   "id": "prime-signal",
   "metadata": {},
   "outputs": [],
   "source": [
    "summary = [0, 0]"
   ]
  },
  {
   "cell_type": "code",
   "execution_count": null,
   "id": "increasing-opening",
   "metadata": {},
   "outputs": [],
   "source": [
    "for _ in range(100):\n",
    "    env = make(\"lux_ai_2021\", configuration={\"loglevel\": 2}, debug=False)\n",
    "    # steps = env.run([\"lux_gym/agents/title_agent.py\", agent])\n",
    "    steps = env.run([compare_agent, agent])\n",
    "    if steps[-1][0]['reward'] > steps[-1][1]['reward']:\n",
    "        summary[0] += 1\n",
    "    elif steps[-1][0]['reward'] < steps[-1][1]['reward']:\n",
    "        summary[1] += 1\n",
    "    else:\n",
    "        summary[0] += 1\n",
    "        summary[1] += 1\n",
    "    print(summary)"
   ]
  },
  {
   "cell_type": "code",
   "execution_count": null,
   "id": "ahead-finder",
   "metadata": {},
   "outputs": [],
   "source": []
  }
 ],
 "metadata": {
  "kernelspec": {
   "display_name": "Python 3",
   "language": "python",
   "name": "python3"
  },
  "language_info": {
   "codemirror_mode": {
    "name": "ipython",
    "version": 3
   },
   "file_extension": ".py",
   "mimetype": "text/x-python",
   "name": "python",
   "nbconvert_exporter": "python",
   "pygments_lexer": "ipython3",
   "version": "3.8.12"
  }
 },
 "nbformat": 4,
 "nbformat_minor": 5
}
