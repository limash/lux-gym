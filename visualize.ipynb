{
 "cells": [
  {
   "cell_type": "code",
   "execution_count": null,
   "id": "close-atlantic",
   "metadata": {},
   "outputs": [],
   "source": [
    "from kaggle_environments import make"
   ]
  },
  {
   "cell_type": "code",
   "execution_count": null,
   "id": "executed-socket",
   "metadata": {},
   "outputs": [],
   "source": [
    "import lux_gym.agents.agents as agents"
   ]
  },
  {
   "cell_type": "code",
   "execution_count": null,
   "id": "national-routine",
   "metadata": {},
   "outputs": [],
   "source": [
    "summary = [0, 0]"
   ]
  },
  {
   "cell_type": "code",
   "execution_count": null,
   "id": "smoking-valuable",
   "metadata": {},
   "outputs": [],
   "source": [
    "agent = agents.get_agent(\"half_imitator\", is_gym=False)"
   ]
  },
  {
   "cell_type": "markdown",
   "id": "noticed-blowing",
   "metadata": {},
   "source": [
    "# tests"
   ]
  },
  {
   "cell_type": "code",
   "execution_count": null,
   "id": "black-armor",
   "metadata": {},
   "outputs": [],
   "source": [
    "for _ in range(30):\n",
    "    env = make(\"lux_ai_2021\", configuration={\"loglevel\": 2}, debug=False)\n",
    "    steps = env.run([\"lux_gym/agents/title_agent.py\", agent])\n",
    "    if steps[-1][0]['reward'] > steps[-1][1]['reward']:\n",
    "        summary[0] += 1\n",
    "    elif steps[-1][0]['reward'] < steps[-1][1]['reward']:\n",
    "        summary[1] += 1\n",
    "    else:\n",
    "        summary[0] += 1\n",
    "        summary[1] += 1\n",
    "    print(summary)"
   ]
  },
  {
   "cell_type": "code",
   "execution_count": null,
   "id": "numerical-supervision",
   "metadata": {},
   "outputs": [],
   "source": [
    "env.render(mode=\"ipython\", width=900, height=800)"
   ]
  },
  {
   "cell_type": "code",
   "execution_count": null,
   "id": "dramatic-toronto",
   "metadata": {},
   "outputs": [],
   "source": []
  }
 ],
 "metadata": {
  "kernelspec": {
   "display_name": "Python 3",
   "language": "python",
   "name": "python3"
  },
  "language_info": {
   "codemirror_mode": {
    "name": "ipython",
    "version": 3
   },
   "file_extension": ".py",
   "mimetype": "text/x-python",
   "name": "python",
   "nbconvert_exporter": "python",
   "pygments_lexer": "ipython3",
   "version": "3.8.12"
  }
 },
 "nbformat": 4,
 "nbformat_minor": 5
}
