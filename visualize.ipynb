{
 "cells": [
  {
   "cell_type": "code",
   "execution_count": null,
   "id": "fossil-duncan",
   "metadata": {},
   "outputs": [],
   "source": [
    "from kaggle_environments import make"
   ]
  },
  {
   "cell_type": "code",
   "execution_count": null,
   "id": "native-zoning",
   "metadata": {},
   "outputs": [],
   "source": [
    "import lux_gym.agents.agents as agents"
   ]
  },
  {
   "cell_type": "code",
   "execution_count": null,
   "id": "amino-probe",
   "metadata": {},
   "outputs": [],
   "source": [
    "summary = [0, 0]"
   ]
  },
  {
   "cell_type": "code",
   "execution_count": null,
   "id": "greenhouse-encoding",
   "metadata": {},
   "outputs": [],
   "source": [
    "agent = agents.get_agent(\"half_imitator\", is_gym=False)"
   ]
  },
  {
   "cell_type": "markdown",
   "id": "violent-dodge",
   "metadata": {},
   "source": [
    "# tests"
   ]
  },
  {
   "cell_type": "code",
   "execution_count": null,
   "id": "meaningful-employment",
   "metadata": {},
   "outputs": [],
   "source": [
    "env = make(\"lux_ai_2021\", configuration={\"loglevel\": 2}, debug=False)"
   ]
  },
  {
   "cell_type": "code",
   "execution_count": null,
   "id": "opening-certification",
   "metadata": {},
   "outputs": [],
   "source": [
    "steps = env.run([\"lux_gym/agents/title_agent.py\", agent])"
   ]
  },
  {
   "cell_type": "code",
   "execution_count": null,
   "id": "impressive-roads",
   "metadata": {},
   "outputs": [],
   "source": [
    "env.render(mode=\"ipython\", width=900, height=800)"
   ]
  },
  {
   "cell_type": "code",
   "execution_count": null,
   "id": "personalized-buffalo",
   "metadata": {},
   "outputs": [],
   "source": [
    "if steps[-1][0]['reward'] > steps[-1][1]['reward']:\n",
    "    summary[0] += 1\n",
    "elif steps[-1][0]['reward'] < steps[-1][1]['reward']:\n",
    "    summary[1] += 1\n",
    "else:\n",
    "    summary[0] += 1\n",
    "    summary[1] += 1"
   ]
  },
  {
   "cell_type": "code",
   "execution_count": null,
   "id": "utility-essex",
   "metadata": {},
   "outputs": [],
   "source": [
    "summary"
   ]
  },
  {
   "cell_type": "code",
   "execution_count": null,
   "id": "chemical-madness",
   "metadata": {},
   "outputs": [],
   "source": []
  }
 ],
 "metadata": {
  "kernelspec": {
   "display_name": "Python 3",
   "language": "python",
   "name": "python3"
  },
  "language_info": {
   "codemirror_mode": {
    "name": "ipython",
    "version": 3
   },
   "file_extension": ".py",
   "mimetype": "text/x-python",
   "name": "python",
   "nbconvert_exporter": "python",
   "pygments_lexer": "ipython3",
   "version": "3.8.12"
  }
 },
 "nbformat": 4,
 "nbformat_minor": 5
}
