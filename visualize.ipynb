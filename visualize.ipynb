{
 "cells": [
  {
   "cell_type": "code",
   "execution_count": null,
   "id": "underlying-embassy",
   "metadata": {},
   "outputs": [],
   "source": [
    "from kaggle_environments import make"
   ]
  },
  {
   "cell_type": "code",
   "execution_count": null,
   "id": "sized-birth",
   "metadata": {},
   "outputs": [],
   "source": [
    "import lux_gym.agents.agents as agents"
   ]
  },
  {
   "cell_type": "code",
   "execution_count": null,
   "id": "rapid-small",
   "metadata": {},
   "outputs": [],
   "source": [
    "agent = agents.get_agent(\"actor_critic_residual_six_actions\", is_gym=False)"
   ]
  },
  {
   "cell_type": "code",
   "execution_count": null,
   "id": "threaded-arctic",
   "metadata": {},
   "outputs": [],
   "source": [
    "compare_agent = agents.get_agent(\"compare_agent_eff\", is_gym=False)"
   ]
  },
  {
   "cell_type": "markdown",
   "id": "spare-material",
   "metadata": {},
   "source": [
    "# visualize"
   ]
  },
  {
   "cell_type": "code",
   "execution_count": null,
   "id": "trained-draft",
   "metadata": {
    "tags": []
   },
   "outputs": [],
   "source": [
    "env = make(\"lux_ai_2021\", configuration={\"loglevel\": 2}, debug=False)\n",
    "# steps = env.run([\"lux_gym/agents/title_agent.py\", agent])\n",
    "steps = env.run([compare_agent, agent])"
   ]
  },
  {
   "cell_type": "code",
   "execution_count": null,
   "id": "proper-reynolds",
   "metadata": {
    "tags": []
   },
   "outputs": [],
   "source": [
    "env.render(mode=\"ipython\", width=1500, height=1000)"
   ]
  },
  {
   "cell_type": "markdown",
   "id": "loaded-presence",
   "metadata": {},
   "source": [
    "# tests"
   ]
  },
  {
   "cell_type": "code",
   "execution_count": null,
   "id": "grateful-sunrise",
   "metadata": {},
   "outputs": [],
   "source": [
    "summary = [0, 0]"
   ]
  },
  {
   "cell_type": "code",
   "execution_count": null,
   "id": "finite-assessment",
   "metadata": {},
   "outputs": [],
   "source": [
    "for _ in range(100):\n",
    "    env = make(\"lux_ai_2021\", configuration={\"loglevel\": 2}, debug=False)\n",
    "    # steps = env.run([\"lux_gym/agents/title_agent.py\", agent])\n",
    "    steps = env.run([compare_agent, agent])\n",
    "    if steps[-1][0]['reward'] > steps[-1][1]['reward']:\n",
    "        summary[0] += 1\n",
    "    elif steps[-1][0]['reward'] < steps[-1][1]['reward']:\n",
    "        summary[1] += 1\n",
    "    else:\n",
    "        summary[0] += 1\n",
    "        summary[1] += 1\n",
    "    print(summary)"
   ]
  },
  {
   "cell_type": "code",
   "execution_count": null,
   "id": "specified-denial",
   "metadata": {},
   "outputs": [],
   "source": []
  }
 ],
 "metadata": {
  "kernelspec": {
   "display_name": "Python 3",
   "language": "python",
   "name": "python3"
  },
  "language_info": {
   "codemirror_mode": {
    "name": "ipython",
    "version": 3
   },
   "file_extension": ".py",
   "mimetype": "text/x-python",
   "name": "python",
   "nbconvert_exporter": "python",
   "pygments_lexer": "ipython3",
   "version": "3.8.12"
  }
 },
 "nbformat": 4,
 "nbformat_minor": 5
}
